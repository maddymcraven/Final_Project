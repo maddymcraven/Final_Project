{
 "cells": [
  {
   "cell_type": "code",
   "execution_count": 17,
   "metadata": {
    "jupyter": {
     "outputs_hidden": true
    },
    "slideshow": {
     "slide_type": "subslide"
    }
   },
   "outputs": [],
   "source": [
    "%matplotlib inline\n",
    "import matplotlib.pyplot as plt\n",
    "import pandas as pd\n",
    "import os\n",
    "\n",
    "#Import models\n",
    "from sklearn.naive_bayes import GaussianNB\n",
    "from sklearn.linear_model import LogisticRegression\n",
    "from sklearn.ensemble import RandomForestClassifier\n",
    "from sklearn.svm import LinearSVC\n",
    "from sklearn.calibration import calibration_curve\n",
    "from sklearn.metrics import confusion_matrix\n",
    "from sklearn.metrics import classification_report\n",
    "from sklearn import metrics\n",
    "from sklearn.model_selection import train_test_split\n",
    "\n",
    "\n",
    "import tensorflow as tf\n",
    "from tensorflow import keras"
   ]
  },
  {
   "cell_type": "code",
   "execution_count": 18,
   "metadata": {
    "slideshow": {
     "slide_type": "fragment"
    }
   },
   "outputs": [
    {
     "data": {
      "text/html": [
       "<div>\n",
       "<style scoped>\n",
       "    .dataframe tbody tr th:only-of-type {\n",
       "        vertical-align: middle;\n",
       "    }\n",
       "\n",
       "    .dataframe tbody tr th {\n",
       "        vertical-align: top;\n",
       "    }\n",
       "\n",
       "    .dataframe thead th {\n",
       "        text-align: right;\n",
       "    }\n",
       "</style>\n",
       "<table border=\"1\" class=\"dataframe\">\n",
       "  <thead>\n",
       "    <tr style=\"text-align: right;\">\n",
       "      <th></th>\n",
       "      <th>Age</th>\n",
       "      <th>Gender</th>\n",
       "      <th>Polyuria</th>\n",
       "      <th>Polydipsia</th>\n",
       "      <th>sudden weight loss</th>\n",
       "      <th>weakness</th>\n",
       "      <th>Polyphagia</th>\n",
       "      <th>Genital thrush</th>\n",
       "      <th>visual blurring</th>\n",
       "      <th>Itching</th>\n",
       "      <th>Irritability</th>\n",
       "      <th>delayed healing</th>\n",
       "      <th>partial paresis</th>\n",
       "      <th>muscle stiffness</th>\n",
       "      <th>Alopecia</th>\n",
       "      <th>Obesity</th>\n",
       "      <th>class</th>\n",
       "    </tr>\n",
       "  </thead>\n",
       "  <tbody>\n",
       "    <tr>\n",
       "      <th>0</th>\n",
       "      <td>40</td>\n",
       "      <td>1</td>\n",
       "      <td>0</td>\n",
       "      <td>1</td>\n",
       "      <td>0</td>\n",
       "      <td>1</td>\n",
       "      <td>0</td>\n",
       "      <td>0</td>\n",
       "      <td>0</td>\n",
       "      <td>1</td>\n",
       "      <td>0</td>\n",
       "      <td>1</td>\n",
       "      <td>0</td>\n",
       "      <td>1</td>\n",
       "      <td>1</td>\n",
       "      <td>1</td>\n",
       "      <td>1</td>\n",
       "    </tr>\n",
       "    <tr>\n",
       "      <th>1</th>\n",
       "      <td>58</td>\n",
       "      <td>1</td>\n",
       "      <td>0</td>\n",
       "      <td>0</td>\n",
       "      <td>0</td>\n",
       "      <td>1</td>\n",
       "      <td>0</td>\n",
       "      <td>0</td>\n",
       "      <td>1</td>\n",
       "      <td>0</td>\n",
       "      <td>0</td>\n",
       "      <td>0</td>\n",
       "      <td>1</td>\n",
       "      <td>0</td>\n",
       "      <td>1</td>\n",
       "      <td>0</td>\n",
       "      <td>1</td>\n",
       "    </tr>\n",
       "    <tr>\n",
       "      <th>2</th>\n",
       "      <td>41</td>\n",
       "      <td>1</td>\n",
       "      <td>1</td>\n",
       "      <td>0</td>\n",
       "      <td>0</td>\n",
       "      <td>1</td>\n",
       "      <td>1</td>\n",
       "      <td>0</td>\n",
       "      <td>0</td>\n",
       "      <td>1</td>\n",
       "      <td>0</td>\n",
       "      <td>1</td>\n",
       "      <td>0</td>\n",
       "      <td>1</td>\n",
       "      <td>1</td>\n",
       "      <td>0</td>\n",
       "      <td>1</td>\n",
       "    </tr>\n",
       "    <tr>\n",
       "      <th>3</th>\n",
       "      <td>45</td>\n",
       "      <td>1</td>\n",
       "      <td>0</td>\n",
       "      <td>0</td>\n",
       "      <td>1</td>\n",
       "      <td>1</td>\n",
       "      <td>1</td>\n",
       "      <td>1</td>\n",
       "      <td>0</td>\n",
       "      <td>1</td>\n",
       "      <td>0</td>\n",
       "      <td>1</td>\n",
       "      <td>0</td>\n",
       "      <td>0</td>\n",
       "      <td>0</td>\n",
       "      <td>0</td>\n",
       "      <td>1</td>\n",
       "    </tr>\n",
       "    <tr>\n",
       "      <th>4</th>\n",
       "      <td>60</td>\n",
       "      <td>1</td>\n",
       "      <td>1</td>\n",
       "      <td>1</td>\n",
       "      <td>1</td>\n",
       "      <td>1</td>\n",
       "      <td>1</td>\n",
       "      <td>0</td>\n",
       "      <td>1</td>\n",
       "      <td>1</td>\n",
       "      <td>1</td>\n",
       "      <td>1</td>\n",
       "      <td>1</td>\n",
       "      <td>1</td>\n",
       "      <td>1</td>\n",
       "      <td>1</td>\n",
       "      <td>1</td>\n",
       "    </tr>\n",
       "  </tbody>\n",
       "</table>\n",
       "</div>"
      ],
      "text/plain": [
       "   Age  Gender  Polyuria  Polydipsia  sudden weight loss  weakness  \\\n",
       "0   40       1         0           1                   0         1   \n",
       "1   58       1         0           0                   0         1   \n",
       "2   41       1         1           0                   0         1   \n",
       "3   45       1         0           0                   1         1   \n",
       "4   60       1         1           1                   1         1   \n",
       "\n",
       "   Polyphagia  Genital thrush  visual blurring  Itching  Irritability  \\\n",
       "0           0               0                0        1             0   \n",
       "1           0               0                1        0             0   \n",
       "2           1               0                0        1             0   \n",
       "3           1               1                0        1             0   \n",
       "4           1               0                1        1             1   \n",
       "\n",
       "   delayed healing  partial paresis  muscle stiffness  Alopecia  Obesity  \\\n",
       "0                1                0                 1         1        1   \n",
       "1                0                1                 0         1        0   \n",
       "2                1                0                 1         1        0   \n",
       "3                1                0                 0         0        0   \n",
       "4                1                1                 1         1        1   \n",
       "\n",
       "   class  \n",
       "0      1  \n",
       "1      1  \n",
       "2      1  \n",
       "3      1  \n",
       "4      1  "
      ]
     },
     "execution_count": 18,
     "metadata": {},
     "output_type": "execute_result"
    }
   ],
   "source": [
    "file_path =  'diabetes_data_upload.csv'\n",
    "#voice = pd.read_csv(os.path.join('..', 'Resources', 'voice.csv'))\n",
    "voice = pd.read_csv(file_path)\n",
    "voice.head()"
   ]
  },
  {
   "cell_type": "code",
   "execution_count": 19,
   "metadata": {
    "nbgrader": {
     "grade": false,
     "grade_id": "cell-86a9e3212f200d21",
     "locked": false,
     "schema_version": 1,
     "solution": true
    },
    "slideshow": {
     "slide_type": "subslide"
    }
   },
   "outputs": [
    {
     "name": "stdout",
     "output_type": "stream",
     "text": [
      "(520, 16) (520,)\n"
     ]
    }
   ],
   "source": [
    "# Assign X (data) and y (target)\n",
    "X = voice.drop(\"class\", axis=1)\n",
    "y = voice[\"class\"]\n",
    "print(X.shape, y.shape)\n",
    "\n"
   ]
  },
  {
   "cell_type": "markdown",
   "metadata": {
    "slideshow": {
     "slide_type": "subslide"
    }
   },
   "source": [
    "Split our data into training and testing"
   ]
  },
  {
   "cell_type": "code",
   "execution_count": 20,
   "metadata": {},
   "outputs": [
    {
     "data": {
      "text/html": [
       "<div>\n",
       "<style scoped>\n",
       "    .dataframe tbody tr th:only-of-type {\n",
       "        vertical-align: middle;\n",
       "    }\n",
       "\n",
       "    .dataframe tbody tr th {\n",
       "        vertical-align: top;\n",
       "    }\n",
       "\n",
       "    .dataframe thead th {\n",
       "        text-align: right;\n",
       "    }\n",
       "</style>\n",
       "<table border=\"1\" class=\"dataframe\">\n",
       "  <thead>\n",
       "    <tr style=\"text-align: right;\">\n",
       "      <th></th>\n",
       "      <th>lr_precision</th>\n",
       "      <th>gnb_precision</th>\n",
       "      <th>svc_precision</th>\n",
       "      <th>rfc_precision</th>\n",
       "      <th>lr_f1_score</th>\n",
       "      <th>gnb_f1_score</th>\n",
       "      <th>svc_f1_score</th>\n",
       "      <th>rfc_f1_score</th>\n",
       "      <th>lr_recall_score</th>\n",
       "      <th>gnb_recall_score</th>\n",
       "      <th>svc_recall_score</th>\n",
       "      <th>rfc_recall_score</th>\n",
       "    </tr>\n",
       "  </thead>\n",
       "  <tbody>\n",
       "  </tbody>\n",
       "</table>\n",
       "</div>"
      ],
      "text/plain": [
       "Empty DataFrame\n",
       "Columns: [lr_precision, gnb_precision, svc_precision, rfc_precision, lr_f1_score, gnb_f1_score, svc_f1_score, rfc_f1_score, lr_recall_score, gnb_recall_score, svc_recall_score, rfc_recall_score]\n",
       "Index: []"
      ]
     },
     "execution_count": 20,
     "metadata": {},
     "output_type": "execute_result"
    }
   ],
   "source": [
    "## Create dataframe \n",
    "data = {\n",
    "    'lr_precision': [],\n",
    "    'gnb_precision': [],\n",
    "    'svc_precision': [],\n",
    "    'rfc_precision': [],\n",
    "    'lr_f1_score': [],\n",
    "    'gnb_f1_score': [],\n",
    "    'svc_f1_score': [],\n",
    "    'rfc_f1_score': [],\n",
    "    'lr_recall_score': [],\n",
    "    'gnb_recall_score': [],\n",
    "    'svc_recall_score': [],\n",
    "    'rfc_recall_score': []\n",
    "}\n",
    "\n",
    "#[lr_precision, gnb_precision, svc_precision, rfc_precision, lr_f1_score, gnb_f1_score, svc_f1_score, rfc_f1_score, lr_recall_score, gnb_recall_score, svc_recall_score, rfc_recall_score]\n",
    "outcomes = pd.DataFrame(data)\n",
    "outcomes\n"
   ]
  },
  {
   "cell_type": "code",
   "execution_count": 21,
   "metadata": {},
   "outputs": [],
   "source": [
    "states = [0,1,2,3,4,5,6,7,8,9,11]"
   ]
  },
  {
   "cell_type": "code",
   "execution_count": 22,
   "metadata": {},
   "outputs": [
    {
     "name": "stderr",
     "output_type": "stream",
     "text": [
      "C:\\Users\\maddy\\anaconda3\\envs\\PythonAdv\\lib\\site-packages\\sklearn\\svm\\_base.py:977: ConvergenceWarning: Liblinear failed to converge, increase the number of iterations.\n",
      "  \"the number of iterations.\", ConvergenceWarning)\n",
      "C:\\Users\\maddy\\anaconda3\\envs\\PythonAdv\\lib\\site-packages\\sklearn\\svm\\_base.py:977: ConvergenceWarning: Liblinear failed to converge, increase the number of iterations.\n",
      "  \"the number of iterations.\", ConvergenceWarning)\n",
      "C:\\Users\\maddy\\anaconda3\\envs\\PythonAdv\\lib\\site-packages\\sklearn\\svm\\_base.py:977: ConvergenceWarning: Liblinear failed to converge, increase the number of iterations.\n",
      "  \"the number of iterations.\", ConvergenceWarning)\n",
      "C:\\Users\\maddy\\anaconda3\\envs\\PythonAdv\\lib\\site-packages\\sklearn\\svm\\_base.py:977: ConvergenceWarning: Liblinear failed to converge, increase the number of iterations.\n",
      "  \"the number of iterations.\", ConvergenceWarning)\n",
      "C:\\Users\\maddy\\anaconda3\\envs\\PythonAdv\\lib\\site-packages\\sklearn\\svm\\_base.py:977: ConvergenceWarning: Liblinear failed to converge, increase the number of iterations.\n",
      "  \"the number of iterations.\", ConvergenceWarning)\n",
      "C:\\Users\\maddy\\anaconda3\\envs\\PythonAdv\\lib\\site-packages\\sklearn\\svm\\_base.py:977: ConvergenceWarning: Liblinear failed to converge, increase the number of iterations.\n",
      "  \"the number of iterations.\", ConvergenceWarning)\n",
      "C:\\Users\\maddy\\anaconda3\\envs\\PythonAdv\\lib\\site-packages\\sklearn\\svm\\_base.py:977: ConvergenceWarning: Liblinear failed to converge, increase the number of iterations.\n",
      "  \"the number of iterations.\", ConvergenceWarning)\n",
      "C:\\Users\\maddy\\anaconda3\\envs\\PythonAdv\\lib\\site-packages\\sklearn\\svm\\_base.py:977: ConvergenceWarning: Liblinear failed to converge, increase the number of iterations.\n",
      "  \"the number of iterations.\", ConvergenceWarning)\n",
      "C:\\Users\\maddy\\anaconda3\\envs\\PythonAdv\\lib\\site-packages\\sklearn\\svm\\_base.py:977: ConvergenceWarning: Liblinear failed to converge, increase the number of iterations.\n",
      "  \"the number of iterations.\", ConvergenceWarning)\n",
      "C:\\Users\\maddy\\anaconda3\\envs\\PythonAdv\\lib\\site-packages\\sklearn\\svm\\_base.py:977: ConvergenceWarning: Liblinear failed to converge, increase the number of iterations.\n",
      "  \"the number of iterations.\", ConvergenceWarning)\n",
      "C:\\Users\\maddy\\anaconda3\\envs\\PythonAdv\\lib\\site-packages\\sklearn\\svm\\_base.py:977: ConvergenceWarning: Liblinear failed to converge, increase the number of iterations.\n",
      "  \"the number of iterations.\", ConvergenceWarning)\n"
     ]
    }
   ],
   "source": [
    "for x in states:\n",
    "    #training datasets\n",
    "    X_train, X_test, y_train, y_test = train_test_split(X, y, random_state=x)\n",
    "\n",
    "    #create classifiers\n",
    "    lr = LogisticRegression(max_iter=600)\n",
    "    gnb = GaussianNB()\n",
    "    svc = LinearSVC(C=1.0, max_iter=10000, dual = True)\n",
    "    rfc = RandomForestClassifier()\n",
    "\n",
    "    #train\n",
    "    lr.fit(X_train, y_train)\n",
    "    gnb.fit(X_train, y_train)\n",
    "    svc.fit(X_train, y_train)\n",
    "    rfc.fit(X_train, y_train)\n",
    "    \n",
    "    #defining predictions\n",
    "    lr_y_pred= lr.predict(X_test)\n",
    "    gnb_y_pred= gnb.predict(X_test)\n",
    "    svc_y_pred= svc.predict(X_test)\n",
    "    rfc_y_pred= rfc.predict(X_test)\n",
    "\n",
    "    #getting metrics\n",
    "    lr_precision = metrics.precision_score(y_test, lr_y_pred)\n",
    "    gnb_precision = metrics.precision_score(y_test, gnb_y_pred)\n",
    "    svc_precision = metrics.precision_score(y_test, svc_y_pred)\n",
    "    rfc_precision = metrics.precision_score(y_test, rfc_y_pred)\n",
    "\n",
    "    lr_f1_score = metrics.f1_score(y_test, lr_y_pred)\n",
    "    gnb_f1_score = metrics.f1_score(y_test, gnb_y_pred)\n",
    "    svc_f1_score = metrics.f1_score(y_test, svc_y_pred)\n",
    "    rfc_f1_score = metrics.f1_score(y_test, rfc_y_pred)\n",
    "\n",
    "    lr_recall_score = metrics.recall_score(y_test, lr_y_pred)\n",
    "    gnb_recall_score = metrics.recall_score(y_test, gnb_y_pred)\n",
    "    svc_recall_score = metrics.recall_score(y_test, svc_y_pred)\n",
    "    rfc_recall_score = metrics.recall_score(y_test, rfc_y_pred)\n",
    "\n",
    "    #create array\n",
    "    append_data = {\n",
    "        'lr_precision': lr_precision,\n",
    "        'gnb_precision': gnb_precision,\n",
    "        'svc_precision': svc_precision,\n",
    "        'rfc_precision': rfc_precision,\n",
    "        'lr_f1_score': lr_f1_score,\n",
    "        'gnb_f1_score': gnb_f1_score,\n",
    "        'svc_f1_score': svc_f1_score,\n",
    "        'rfc_f1_score': rfc_f1_score,\n",
    "        'lr_recall_score': lr_recall_score,\n",
    "        'gnb_recall_score': gnb_recall_score,\n",
    "        'svc_recall_score': svc_recall_score,\n",
    "        'rfc_recall_score': rfc_recall_score\n",
    "    }\n",
    "\n",
    "    #APPEND DATA\n",
    "    outcomes = outcomes.append(append_data, ignore_index = True)\n"
   ]
  },
  {
   "cell_type": "code",
   "execution_count": 23,
   "metadata": {},
   "outputs": [
    {
     "data": {
      "text/html": [
       "<div>\n",
       "<style scoped>\n",
       "    .dataframe tbody tr th:only-of-type {\n",
       "        vertical-align: middle;\n",
       "    }\n",
       "\n",
       "    .dataframe tbody tr th {\n",
       "        vertical-align: top;\n",
       "    }\n",
       "\n",
       "    .dataframe thead th {\n",
       "        text-align: right;\n",
       "    }\n",
       "</style>\n",
       "<table border=\"1\" class=\"dataframe\">\n",
       "  <thead>\n",
       "    <tr style=\"text-align: right;\">\n",
       "      <th></th>\n",
       "      <th>lr_precision</th>\n",
       "      <th>gnb_precision</th>\n",
       "      <th>svc_precision</th>\n",
       "      <th>rfc_precision</th>\n",
       "      <th>lr_f1_score</th>\n",
       "      <th>gnb_f1_score</th>\n",
       "      <th>svc_f1_score</th>\n",
       "      <th>rfc_f1_score</th>\n",
       "      <th>lr_recall_score</th>\n",
       "      <th>gnb_recall_score</th>\n",
       "      <th>svc_recall_score</th>\n",
       "      <th>rfc_recall_score</th>\n",
       "    </tr>\n",
       "  </thead>\n",
       "  <tbody>\n",
       "    <tr>\n",
       "      <th>0</th>\n",
       "      <td>0.922078</td>\n",
       "      <td>0.910256</td>\n",
       "      <td>0.934211</td>\n",
       "      <td>1.000000</td>\n",
       "      <td>0.940397</td>\n",
       "      <td>0.934211</td>\n",
       "      <td>0.946667</td>\n",
       "      <td>1.000000</td>\n",
       "      <td>0.959459</td>\n",
       "      <td>0.959459</td>\n",
       "      <td>0.959459</td>\n",
       "      <td>1.000000</td>\n",
       "    </tr>\n",
       "    <tr>\n",
       "      <th>1</th>\n",
       "      <td>0.962963</td>\n",
       "      <td>0.929412</td>\n",
       "      <td>0.962963</td>\n",
       "      <td>0.977011</td>\n",
       "      <td>0.939759</td>\n",
       "      <td>0.929412</td>\n",
       "      <td>0.939759</td>\n",
       "      <td>0.988372</td>\n",
       "      <td>0.917647</td>\n",
       "      <td>0.929412</td>\n",
       "      <td>0.917647</td>\n",
       "      <td>1.000000</td>\n",
       "    </tr>\n",
       "    <tr>\n",
       "      <th>2</th>\n",
       "      <td>0.946667</td>\n",
       "      <td>0.865854</td>\n",
       "      <td>0.925926</td>\n",
       "      <td>1.000000</td>\n",
       "      <td>0.922078</td>\n",
       "      <td>0.881988</td>\n",
       "      <td>0.937500</td>\n",
       "      <td>0.993631</td>\n",
       "      <td>0.898734</td>\n",
       "      <td>0.898734</td>\n",
       "      <td>0.949367</td>\n",
       "      <td>0.987342</td>\n",
       "    </tr>\n",
       "    <tr>\n",
       "      <th>3</th>\n",
       "      <td>0.936709</td>\n",
       "      <td>0.935897</td>\n",
       "      <td>0.936709</td>\n",
       "      <td>1.000000</td>\n",
       "      <td>0.948718</td>\n",
       "      <td>0.941935</td>\n",
       "      <td>0.948718</td>\n",
       "      <td>0.993464</td>\n",
       "      <td>0.961039</td>\n",
       "      <td>0.948052</td>\n",
       "      <td>0.961039</td>\n",
       "      <td>0.987013</td>\n",
       "    </tr>\n",
       "    <tr>\n",
       "      <th>4</th>\n",
       "      <td>0.970588</td>\n",
       "      <td>0.842857</td>\n",
       "      <td>0.907895</td>\n",
       "      <td>0.986301</td>\n",
       "      <td>0.916667</td>\n",
       "      <td>0.808219</td>\n",
       "      <td>0.907895</td>\n",
       "      <td>0.966443</td>\n",
       "      <td>0.868421</td>\n",
       "      <td>0.776316</td>\n",
       "      <td>0.907895</td>\n",
       "      <td>0.947368</td>\n",
       "    </tr>\n",
       "    <tr>\n",
       "      <th>5</th>\n",
       "      <td>0.914634</td>\n",
       "      <td>0.935897</td>\n",
       "      <td>0.903614</td>\n",
       "      <td>0.974359</td>\n",
       "      <td>0.943396</td>\n",
       "      <td>0.941935</td>\n",
       "      <td>0.937500</td>\n",
       "      <td>0.980645</td>\n",
       "      <td>0.974026</td>\n",
       "      <td>0.948052</td>\n",
       "      <td>0.974026</td>\n",
       "      <td>0.987013</td>\n",
       "    </tr>\n",
       "    <tr>\n",
       "      <th>6</th>\n",
       "      <td>0.959459</td>\n",
       "      <td>0.945205</td>\n",
       "      <td>0.972603</td>\n",
       "      <td>0.986667</td>\n",
       "      <td>0.959459</td>\n",
       "      <td>0.938776</td>\n",
       "      <td>0.965986</td>\n",
       "      <td>0.993289</td>\n",
       "      <td>0.959459</td>\n",
       "      <td>0.932432</td>\n",
       "      <td>0.959459</td>\n",
       "      <td>1.000000</td>\n",
       "    </tr>\n",
       "    <tr>\n",
       "      <th>7</th>\n",
       "      <td>0.930556</td>\n",
       "      <td>0.857143</td>\n",
       "      <td>0.918919</td>\n",
       "      <td>0.973333</td>\n",
       "      <td>0.905405</td>\n",
       "      <td>0.862745</td>\n",
       "      <td>0.906667</td>\n",
       "      <td>0.966887</td>\n",
       "      <td>0.881579</td>\n",
       "      <td>0.868421</td>\n",
       "      <td>0.894737</td>\n",
       "      <td>0.960526</td>\n",
       "    </tr>\n",
       "    <tr>\n",
       "      <th>8</th>\n",
       "      <td>0.973684</td>\n",
       "      <td>0.935065</td>\n",
       "      <td>0.903614</td>\n",
       "      <td>1.000000</td>\n",
       "      <td>0.954839</td>\n",
       "      <td>0.923077</td>\n",
       "      <td>0.925926</td>\n",
       "      <td>0.980645</td>\n",
       "      <td>0.936709</td>\n",
       "      <td>0.911392</td>\n",
       "      <td>0.949367</td>\n",
       "      <td>0.962025</td>\n",
       "    </tr>\n",
       "    <tr>\n",
       "      <th>9</th>\n",
       "      <td>0.975309</td>\n",
       "      <td>0.939759</td>\n",
       "      <td>0.976190</td>\n",
       "      <td>1.000000</td>\n",
       "      <td>0.929412</td>\n",
       "      <td>0.906977</td>\n",
       "      <td>0.947977</td>\n",
       "      <td>0.994350</td>\n",
       "      <td>0.887640</td>\n",
       "      <td>0.876404</td>\n",
       "      <td>0.921348</td>\n",
       "      <td>0.988764</td>\n",
       "    </tr>\n",
       "    <tr>\n",
       "      <th>10</th>\n",
       "      <td>0.888889</td>\n",
       "      <td>0.813953</td>\n",
       "      <td>0.890244</td>\n",
       "      <td>1.000000</td>\n",
       "      <td>0.917197</td>\n",
       "      <td>0.864198</td>\n",
       "      <td>0.924051</td>\n",
       "      <td>0.993377</td>\n",
       "      <td>0.947368</td>\n",
       "      <td>0.921053</td>\n",
       "      <td>0.960526</td>\n",
       "      <td>0.986842</td>\n",
       "    </tr>\n",
       "  </tbody>\n",
       "</table>\n",
       "</div>"
      ],
      "text/plain": [
       "    lr_precision  gnb_precision  svc_precision  rfc_precision  lr_f1_score  \\\n",
       "0       0.922078       0.910256       0.934211       1.000000     0.940397   \n",
       "1       0.962963       0.929412       0.962963       0.977011     0.939759   \n",
       "2       0.946667       0.865854       0.925926       1.000000     0.922078   \n",
       "3       0.936709       0.935897       0.936709       1.000000     0.948718   \n",
       "4       0.970588       0.842857       0.907895       0.986301     0.916667   \n",
       "5       0.914634       0.935897       0.903614       0.974359     0.943396   \n",
       "6       0.959459       0.945205       0.972603       0.986667     0.959459   \n",
       "7       0.930556       0.857143       0.918919       0.973333     0.905405   \n",
       "8       0.973684       0.935065       0.903614       1.000000     0.954839   \n",
       "9       0.975309       0.939759       0.976190       1.000000     0.929412   \n",
       "10      0.888889       0.813953       0.890244       1.000000     0.917197   \n",
       "\n",
       "    gnb_f1_score  svc_f1_score  rfc_f1_score  lr_recall_score  \\\n",
       "0       0.934211      0.946667      1.000000         0.959459   \n",
       "1       0.929412      0.939759      0.988372         0.917647   \n",
       "2       0.881988      0.937500      0.993631         0.898734   \n",
       "3       0.941935      0.948718      0.993464         0.961039   \n",
       "4       0.808219      0.907895      0.966443         0.868421   \n",
       "5       0.941935      0.937500      0.980645         0.974026   \n",
       "6       0.938776      0.965986      0.993289         0.959459   \n",
       "7       0.862745      0.906667      0.966887         0.881579   \n",
       "8       0.923077      0.925926      0.980645         0.936709   \n",
       "9       0.906977      0.947977      0.994350         0.887640   \n",
       "10      0.864198      0.924051      0.993377         0.947368   \n",
       "\n",
       "    gnb_recall_score  svc_recall_score  rfc_recall_score  \n",
       "0           0.959459          0.959459          1.000000  \n",
       "1           0.929412          0.917647          1.000000  \n",
       "2           0.898734          0.949367          0.987342  \n",
       "3           0.948052          0.961039          0.987013  \n",
       "4           0.776316          0.907895          0.947368  \n",
       "5           0.948052          0.974026          0.987013  \n",
       "6           0.932432          0.959459          1.000000  \n",
       "7           0.868421          0.894737          0.960526  \n",
       "8           0.911392          0.949367          0.962025  \n",
       "9           0.876404          0.921348          0.988764  \n",
       "10          0.921053          0.960526          0.986842  "
      ]
     },
     "execution_count": 23,
     "metadata": {},
     "output_type": "execute_result"
    }
   ],
   "source": [
    "outcomes"
   ]
  },
  {
   "cell_type": "code",
   "execution_count": 24,
   "metadata": {},
   "outputs": [
    {
     "data": {
      "text/html": [
       "<div>\n",
       "<style scoped>\n",
       "    .dataframe tbody tr th:only-of-type {\n",
       "        vertical-align: middle;\n",
       "    }\n",
       "\n",
       "    .dataframe tbody tr th {\n",
       "        vertical-align: top;\n",
       "    }\n",
       "\n",
       "    .dataframe thead th {\n",
       "        text-align: right;\n",
       "    }\n",
       "</style>\n",
       "<table border=\"1\" class=\"dataframe\">\n",
       "  <thead>\n",
       "    <tr style=\"text-align: right;\">\n",
       "      <th></th>\n",
       "      <th>Precision</th>\n",
       "      <th>F1 Score</th>\n",
       "      <th>Recall Score</th>\n",
       "    </tr>\n",
       "  </thead>\n",
       "  <tbody>\n",
       "    <tr>\n",
       "      <th>Linear Regression</th>\n",
       "      <td>0.943776</td>\n",
       "      <td>0.934303</td>\n",
       "      <td>0.926553</td>\n",
       "    </tr>\n",
       "    <tr>\n",
       "      <th>Gaussian NB</th>\n",
       "      <td>0.901027</td>\n",
       "      <td>0.903043</td>\n",
       "      <td>0.906339</td>\n",
       "    </tr>\n",
       "    <tr>\n",
       "      <th>Linear SVC</th>\n",
       "      <td>0.930263</td>\n",
       "      <td>0.935331</td>\n",
       "      <td>0.941352</td>\n",
       "    </tr>\n",
       "    <tr>\n",
       "      <th>Random Forest Classifier</th>\n",
       "      <td>0.990697</td>\n",
       "      <td>0.986464</td>\n",
       "      <td>0.982445</td>\n",
       "    </tr>\n",
       "  </tbody>\n",
       "</table>\n",
       "</div>"
      ],
      "text/plain": [
       "                          Precision  F1 Score  Recall Score\n",
       "Linear Regression          0.943776  0.934303      0.926553\n",
       "Gaussian NB                0.901027  0.903043      0.906339\n",
       "Linear SVC                 0.930263  0.935331      0.941352\n",
       "Random Forest Classifier   0.990697  0.986464      0.982445"
      ]
     },
     "execution_count": 24,
     "metadata": {},
     "output_type": "execute_result"
    }
   ],
   "source": [
    "data = {\n",
    "    'Precision': [outcomes.lr_precision.mean(),outcomes.gnb_precision.mean(),outcomes.svc_precision.mean(),outcomes.rfc_precision.mean()],\n",
    "    'F1 Score': [outcomes.lr_f1_score.mean(),outcomes.gnb_f1_score.mean(),outcomes.svc_f1_score.mean(),outcomes.rfc_f1_score.mean()],\n",
    "    'Recall Score': [outcomes.lr_recall_score.mean(),outcomes.gnb_recall_score.mean(),outcomes.svc_recall_score.mean(),outcomes.rfc_recall_score.mean()], \n",
    "}\n",
    "\n",
    "#[lr_precision, gnb_precision, svc_precision, rfc_precision, lr_f1_score, gnb_f1_score, svc_f1_score, rfc_f1_score, lr_recall_score, gnb_recall_score, svc_recall_score, rfc_recall_score]\n",
    "results = pd.DataFrame(data, index = ['Linear Regression', 'Gaussian NB', 'Linear SVC', 'Random Forest Classifier'])\n",
    "results\n"
   ]
  },
  {
   "cell_type": "code",
   "execution_count": 25,
   "metadata": {},
   "outputs": [
    {
     "name": "stdout",
     "output_type": "stream",
     "text": [
      "[0]\n",
      "[0]\n",
      "[0]\n",
      "[1]\n"
     ]
    }
   ],
   "source": [
    "input_data = [[60,0,0,0,0,0,0,0,0,0,0,0,0,0,0,0]]\n",
    "\n",
    "print(lr.predict(input_data))\n",
    "print(gnb.predict(input_data))\n",
    "print(svc.predict(input_data))\n",
    "print(rfc.predict(input_data))"
   ]
  },
  {
   "cell_type": "code",
   "execution_count": 26,
   "metadata": {
    "nbgrader": {
     "grade": false,
     "grade_id": "cell-b00f331fda900e0a",
     "locked": false,
     "schema_version": 1,
     "solution": true
    },
    "slideshow": {
     "slide_type": "fragment"
    }
   },
   "outputs": [
    {
     "name": "stdout",
     "output_type": "stream",
     "text": [
      "lr: 0.9\n",
      "gnb: 0.8307692307692308\n",
      "svc: 0.9076923076923077\n",
      "rfc: 0.9923076923076923\n"
     ]
    }
   ],
   "source": [
    "# print(f\"Training Data Score: {classifier.score(X_train, y_train)}\")\n",
    "# print(f\"Testing Data Score: {classifier.score(X_test, y_test)}\")\n",
    "\n",
    "print(f'lr: {lr.score(X_test, y_test)}')\n",
    "print(f'gnb: {gnb.score(X_test, y_test)}')\n",
    "print(f'svc: {svc.score(X_test, y_test)}')\n",
    "print(f'rfc: {rfc.score(X_test, y_test)}')"
   ]
  },
  {
   "cell_type": "code",
   "execution_count": 27,
   "metadata": {},
   "outputs": [
    {
     "name": "stdout",
     "output_type": "stream",
     "text": [
      "Linear Regression\n",
      "              precision    recall  f1-score   support\n",
      "\n",
      "           0       0.92      0.83      0.87        54\n",
      "           1       0.89      0.95      0.92        76\n",
      "\n",
      "    accuracy                           0.90       130\n",
      "   macro avg       0.90      0.89      0.90       130\n",
      "weighted avg       0.90      0.90      0.90       130\n",
      "\n",
      "Gaussian NB\n",
      "              precision    recall  f1-score   support\n",
      "\n",
      "           0       0.86      0.70      0.78        54\n",
      "           1       0.81      0.92      0.86        76\n",
      "\n",
      "    accuracy                           0.83       130\n",
      "   macro avg       0.84      0.81      0.82       130\n",
      "weighted avg       0.83      0.83      0.83       130\n",
      "\n",
      "Linear SVC\n",
      "              precision    recall  f1-score   support\n",
      "\n",
      "           0       0.94      0.83      0.88        54\n",
      "           1       0.89      0.96      0.92        76\n",
      "\n",
      "    accuracy                           0.91       130\n",
      "   macro avg       0.91      0.90      0.90       130\n",
      "weighted avg       0.91      0.91      0.91       130\n",
      "\n",
      "Random Forrest Classifier\n",
      "              precision    recall  f1-score   support\n",
      "\n",
      "           0       0.98      1.00      0.99        54\n",
      "           1       1.00      0.99      0.99        76\n",
      "\n",
      "    accuracy                           0.99       130\n",
      "   macro avg       0.99      0.99      0.99       130\n",
      "weighted avg       0.99      0.99      0.99       130\n",
      "\n"
     ]
    }
   ],
   "source": [
    "print('Linear Regression')\n",
    "print(classification_report(y_test, lr_y_pred))\n",
    "print('Gaussian NB')\n",
    "print(classification_report(y_test, gnb_y_pred))\n",
    "print('Linear SVC')\n",
    "print(classification_report(y_test, svc_y_pred))\n",
    "print('Random Forrest Classifier')\n",
    "print(classification_report(y_test, rfc_y_pred))\n"
   ]
  },
  {
   "cell_type": "code",
   "execution_count": 28,
   "metadata": {},
   "outputs": [],
   "source": [
    "# data2 = [lr_precision, gnb_precision, svc_precision, rfc_precision, lr_f1_score, gnb_f1_score, svc_f1_score, rfc_f1_score, lr_recall_score, gnb_recall_score, svc_recall_score, rfc_recall_score]"
   ]
  },
  {
   "cell_type": "code",
   "execution_count": 29,
   "metadata": {},
   "outputs": [],
   "source": [
    "result = rfc.predict(input_data)"
   ]
  },
  {
   "cell_type": "code",
   "execution_count": 30,
   "metadata": {},
   "outputs": [
    {
     "data": {
      "text/plain": [
       "array([0.09452918, 0.08234058, 0.26740944, 0.17460052, 0.03776662,\n",
       "       0.02372802, 0.02816565, 0.02068953, 0.02557279, 0.02837732,\n",
       "       0.04626299, 0.0337877 , 0.06315322, 0.02257188, 0.03499429,\n",
       "       0.01605027])"
      ]
     },
     "execution_count": 30,
     "metadata": {},
     "output_type": "execute_result"
    }
   ],
   "source": [
    "rfc.feature_importances_"
   ]
  },
  {
   "cell_type": "code",
   "execution_count": 31,
   "metadata": {},
   "outputs": [
    {
     "data": {
      "text/plain": [
       "Index(['Age', 'Gender', 'Polyuria', 'Polydipsia', 'sudden weight loss',\n",
       "       'weakness', 'Polyphagia', 'Genital thrush', 'visual blurring',\n",
       "       'Itching', 'Irritability', 'delayed healing', 'partial paresis',\n",
       "       'muscle stiffness', 'Alopecia', 'Obesity', 'class'],\n",
       "      dtype='object')"
      ]
     },
     "execution_count": 31,
     "metadata": {},
     "output_type": "execute_result"
    }
   ],
   "source": [
    "voice.columns"
   ]
  },
  {
   "cell_type": "code",
   "execution_count": 35,
   "metadata": {},
   "outputs": [],
   "source": [
    "import pickle\n",
    "pickle.dump(rfc,open('rfc.sav','wb'))"
   ]
  },
  {
   "cell_type": "code",
   "execution_count": 36,
   "metadata": {},
   "outputs": [
    {
     "ename": "AttributeError",
     "evalue": "'RandomForestClassifier' object has no attribute 'model'",
     "output_type": "error",
     "traceback": [
      "\u001b[1;31m---------------------------------------------------------------------------\u001b[0m",
      "\u001b[1;31mAttributeError\u001b[0m                            Traceback (most recent call last)",
      "\u001b[1;32m<ipython-input-36-0a47874f59f5>\u001b[0m in \u001b[0;36m<module>\u001b[1;34m\u001b[0m\n\u001b[1;32m----> 1\u001b[1;33m \u001b[0mrfc\u001b[0m\u001b[1;33m.\u001b[0m\u001b[0mmodel\u001b[0m\u001b[1;33m(\u001b[0m\u001b[1;33m)\u001b[0m\u001b[1;33m\u001b[0m\u001b[1;33m\u001b[0m\u001b[0m\n\u001b[0m",
      "\u001b[1;31mAttributeError\u001b[0m: 'RandomForestClassifier' object has no attribute 'model'"
     ]
    }
   ],
   "source": [
    "rfc.model()"
   ]
  },
  {
   "cell_type": "code",
   "execution_count": null,
   "metadata": {},
   "outputs": [],
   "source": []
  }
 ],
 "metadata": {
  "kernelspec": {
   "display_name": "Python [conda env:PythonAdv]",
   "language": "python",
   "name": "conda-env-PythonAdv-py"
  },
  "language_info": {
   "codemirror_mode": {
    "name": "ipython",
    "version": 3
   },
   "file_extension": ".py",
   "mimetype": "text/x-python",
   "name": "python",
   "nbconvert_exporter": "python",
   "pygments_lexer": "ipython3",
   "version": "3.6.12"
  },
  "varInspector": {
   "cols": {
    "lenName": 16,
    "lenType": 16,
    "lenVar": 40
   },
   "kernels_config": {
    "python": {
     "delete_cmd_postfix": "",
     "delete_cmd_prefix": "del ",
     "library": "var_list.py",
     "varRefreshCmd": "print(var_dic_list())"
    },
    "r": {
     "delete_cmd_postfix": ") ",
     "delete_cmd_prefix": "rm(",
     "library": "var_list.r",
     "varRefreshCmd": "cat(var_dic_list()) "
    }
   },
   "types_to_exclude": [
    "module",
    "function",
    "builtin_function_or_method",
    "instance",
    "_Feature"
   ],
   "window_display": false
  }
 },
 "nbformat": 4,
 "nbformat_minor": 4
}
